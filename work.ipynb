{
 "cells": [
  {
   "attachments": {},
   "cell_type": "markdown",
   "metadata": {},
   "source": [
    "You are given a data file with traffic light information. \n",
    "\n",
    "EXAMPLE:\n",
    "Red,Yellow,Green,TimeActive,Time\n",
    "1,0,0,7,0:00:07\n",
    "0,1,0,7,0:00:14\n",
    "0,0,1,9,0:00:23\n",
    "0,1,0,1,0:00:24\n",
    "1,0,0,1,0:00:25\n",
    "\n",
    "The first row indicates what information is in each column. Columns are separated by a comma. For example, the first line: 1,0,0,7,0:00:07 means that\n",
    "Red: 1\n",
    "Yellow: 0\n",
    "Green: 0\n",
    "TimeActive: 7\n",
    "Time: 0:00:07\n",
    "or in other words, the red light was ON for 7 seconds at 0:00:07 o'clock.\n",
    "\n",
    "Complete at least two of the following tasks:\n",
    "1.\tFind the number of red, yellow & green occurrences.\n",
    "From the example above: Red=2, Yellow=2, Green=1\n",
    "2.\tFind how long each colour was active for.\n",
    "From the example above: Red=8 seconds, Yellow=8 seconds, Green=9 seconds\n",
    "3.\tFind all times when Green was active (by time)\n",
    "From the example above: [0:00:23]\n",
    "4.\tFind the number of complete cycles Red-Yellow-Green-Yellow-Red in the data\n",
    "From the example above: 1\n",
    "5.\tFind number of lines with mistakes (multiple colours active at the same time or no colours active)\n",
    "From the example above: 0\n",
    "NOTE: Only imports from the python standard library are allowed\n"
   ]
  }
 ],
 "metadata": {
  "kernelspec": {
   "display_name": "Python 3",
   "language": "python",
   "name": "python3"
  },
  "language_info": {
   "name": "python",
   "version": "3.9.13 (tags/v3.9.13:6de2ca5, May 17 2022, 16:36:42) [MSC v.1929 64 bit (AMD64)]"
  },
  "orig_nbformat": 4,
  "vscode": {
   "interpreter": {
    "hash": "f8ab996312f3a8adbd2a2636b6b4e8a7955d0a11726b7aea0b8bbd8230b6a945"
   }
  }
 },
 "nbformat": 4,
 "nbformat_minor": 2
}
